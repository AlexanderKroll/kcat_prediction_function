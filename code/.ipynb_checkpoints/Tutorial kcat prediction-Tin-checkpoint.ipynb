{
 "cells": [
  {
   "cell_type": "markdown",
   "metadata": {},
   "source": [
    "#### Dependencies:"
   ]
  },
  {
   "cell_type": "code",
   "execution_count": 1,
   "metadata": {},
   "outputs": [],
   "source": [
    "'''import os\n",
    "from os.path import join \n",
    "import torch #pip install torch\n",
    "import numpy as np #pip install numpy\n",
    "import pickle\n",
    "import xgboost as xgb #pip install xgboost\n",
    "import shutil\n",
    "import warnings\n",
    "import esm #pip install fair-esm''';"
   ]
  },
  {
   "cell_type": "code",
   "execution_count": 1,
   "metadata": {},
   "outputs": [],
   "source": [
    "from kcat_prediction import *\n",
    "import os\n",
    "#import torch\n",
    "CURRENT_DIR = os.getcwd()"
   ]
  },
  {
   "cell_type": "code",
   "execution_count": 4,
   "metadata": {},
   "outputs": [],
   "source": [
    "df = pd.read_pickle(join(\"..\", \"..\", \"Tin_data\", \"df_AAseq.pkl\"))"
   ]
  },
  {
   "cell_type": "code",
   "execution_count": 6,
   "metadata": {},
   "outputs": [
    {
     "data": {
      "text/html": [
       "<div>\n",
       "<style scoped>\n",
       "    .dataframe tbody tr th:only-of-type {\n",
       "        vertical-align: middle;\n",
       "    }\n",
       "\n",
       "    .dataframe tbody tr th {\n",
       "        vertical-align: top;\n",
       "    }\n",
       "\n",
       "    .dataframe thead th {\n",
       "        text-align: right;\n",
       "    }\n",
       "</style>\n",
       "<table border=\"1\" class=\"dataframe\">\n",
       "  <thead>\n",
       "    <tr style=\"text-align: right;\">\n",
       "      <th></th>\n",
       "      <th>column_0</th>\n",
       "      <th>column_1</th>\n",
       "      <th>column_2</th>\n",
       "    </tr>\n",
       "  </thead>\n",
       "  <tbody>\n",
       "    <tr>\n",
       "      <th>0</th>\n",
       "      <td>A0A075B6G3</td>\n",
       "      <td>NaN</td>\n",
       "      <td>MLWWEEVEDCYEREDVQKKTFTKWVNAQFSKFGKQHIENLFSDLQD...</td>\n",
       "    </tr>\n",
       "    <tr>\n",
       "      <th>1</th>\n",
       "      <td>A0A087WV00</td>\n",
       "      <td>9162;</td>\n",
       "      <td>MDAAGRGCHLLPLPAARGPARAPAAAAAAAASPPGPCSGAACAPSA...</td>\n",
       "    </tr>\n",
       "    <tr>\n",
       "      <th>2</th>\n",
       "      <td>A0A087WZT3</td>\n",
       "      <td>552900;654483;</td>\n",
       "      <td>MELSAEYLREKLQRDLEAEHVLPSPGGVGQVRGETAASETQLGS</td>\n",
       "    </tr>\n",
       "    <tr>\n",
       "      <th>3</th>\n",
       "      <td>A0A087X1C5</td>\n",
       "      <td>1564;</td>\n",
       "      <td>MGLEALVPLAMIVAIFLLLVDLMHRHQRWAARYPPGPLPLPGLGNL...</td>\n",
       "    </tr>\n",
       "    <tr>\n",
       "      <th>4</th>\n",
       "      <td>A0A087X296</td>\n",
       "      <td>5742;</td>\n",
       "      <td>MSRSLLLWFLLFLLLLPPLPVLLADPGAPTPVNPCCYYPCQHQGIC...</td>\n",
       "    </tr>\n",
       "    <tr>\n",
       "      <th>...</th>\n",
       "      <td>...</td>\n",
       "      <td>...</td>\n",
       "      <td>...</td>\n",
       "    </tr>\n",
       "    <tr>\n",
       "      <th>97902</th>\n",
       "      <td>Q96MH7</td>\n",
       "      <td>375444;</td>\n",
       "      <td>MAAELRMILYEDDSVQVQYVDGSTLQLSPCGSEFLFEKSPPVSAHP...</td>\n",
       "    </tr>\n",
       "    <tr>\n",
       "      <th>97903</th>\n",
       "      <td>Q96PS1</td>\n",
       "      <td>115795;</td>\n",
       "      <td>MAGYQLWSPWTPLDESFQWLRHTTPTPSSKHPFKASPCFPHTPSDL...</td>\n",
       "    </tr>\n",
       "    <tr>\n",
       "      <th>97904</th>\n",
       "      <td>Q96T59</td>\n",
       "      <td>146822;</td>\n",
       "      <td>MFSCCFPTSRGCCFRNGGSESLFRRCRRRLIPHPRRLSPVVIRRIQ...</td>\n",
       "    </tr>\n",
       "    <tr>\n",
       "      <th>97905</th>\n",
       "      <td>Q9H693</td>\n",
       "      <td>100506581;</td>\n",
       "      <td>MRASRSPPSPRRCHHHHEATGAASGAAAGGPGAGCVGLCRLALTPS...</td>\n",
       "    </tr>\n",
       "    <tr>\n",
       "      <th>97906</th>\n",
       "      <td>Q9HBI5</td>\n",
       "      <td>57415;</td>\n",
       "      <td>MTSLFAQEIRLSKRHEEIVSQRLMLLQQMENKLGDQHTEKASQLQT...</td>\n",
       "    </tr>\n",
       "  </tbody>\n",
       "</table>\n",
       "<p>97907 rows × 3 columns</p>\n",
       "</div>"
      ],
      "text/plain": [
       "         column_0        column_1  \\\n",
       "0      A0A075B6G3             NaN   \n",
       "1      A0A087WV00           9162;   \n",
       "2      A0A087WZT3  552900;654483;   \n",
       "3      A0A087X1C5           1564;   \n",
       "4      A0A087X296           5742;   \n",
       "...           ...             ...   \n",
       "97902      Q96MH7         375444;   \n",
       "97903      Q96PS1         115795;   \n",
       "97904      Q96T59         146822;   \n",
       "97905      Q9H693      100506581;   \n",
       "97906      Q9HBI5          57415;   \n",
       "\n",
       "                                                column_2  \n",
       "0      MLWWEEVEDCYEREDVQKKTFTKWVNAQFSKFGKQHIENLFSDLQD...  \n",
       "1      MDAAGRGCHLLPLPAARGPARAPAAAAAAAASPPGPCSGAACAPSA...  \n",
       "2           MELSAEYLREKLQRDLEAEHVLPSPGGVGQVRGETAASETQLGS  \n",
       "3      MGLEALVPLAMIVAIFLLLVDLMHRHQRWAARYPPGPLPLPGLGNL...  \n",
       "4      MSRSLLLWFLLFLLLLPPLPVLLADPGAPTPVNPCCYYPCQHQGIC...  \n",
       "...                                                  ...  \n",
       "97902  MAAELRMILYEDDSVQVQYVDGSTLQLSPCGSEFLFEKSPPVSAHP...  \n",
       "97903  MAGYQLWSPWTPLDESFQWLRHTTPTPSSKHPFKASPCFPHTPSDL...  \n",
       "97904  MFSCCFPTSRGCCFRNGGSESLFRRCRRRLIPHPRRLSPVVIRRIQ...  \n",
       "97905  MRASRSPPSPRRCHHHHEATGAASGAAAGGPGAGCVGLCRLALTPS...  \n",
       "97906  MTSLFAQEIRLSKRHEEIVSQRLMLLQQMENKLGDQHTEKASQLQT...  \n",
       "\n",
       "[97907 rows x 3 columns]"
      ]
     },
     "execution_count": 6,
     "metadata": {},
     "output_type": "execute_result"
    }
   ],
   "source": [
    "df_Tin = pd.DataFrame()\n",
    "for i in range(len(df)):\n",
    "    df_Tin[\"column_\" + str(i)] = df[i]\n",
    "df_Tin"
   ]
  },
  {
   "cell_type": "code",
   "execution_count": 8,
   "metadata": {},
   "outputs": [],
   "source": [
    "ofile = open(join(\"..\", \"..\", \"Tin_data\", \"Tin_AA_sequences.fasta\"), \"w\")\n",
    "for ind in df_Tin.index:\n",
    "    seq = df_Tin[\"column_2\"][ind]\n",
    "    if not pd.isnull(seq):\n",
    "        ofile.write(\">\" + str(ind) + \"\\n\" + seq[:1020]  + \"\\n\")\n",
    "ofile.close()"
   ]
  },
  {
   "cell_type": "code",
   "execution_count": 11,
   "metadata": {},
   "outputs": [],
   "source": [
    "import torch\n",
    "rep_dict = torch.load(join(\"..\", \"..\", \"Tin_data\", \"Tin_AA_sequences.pt\"))\n",
    "\n",
    "df_Tin[\"ESM1b\"] = \"\"\n",
    "for ind in df_Tin.index:\n",
    "    if not pd.isnull(df_Tin[\"column_2\"][ind]):        \n",
    "        df_Tin[\"ESM1b\"][ind] = rep_dict[str(ind)+\".pt\"]"
   ]
  },
  {
   "cell_type": "code",
   "execution_count": 12,
   "metadata": {},
   "outputs": [],
   "source": [
    "df_Tin.to_pickle(join(\"..\", \"..\", \"Tin_data\", \"df_AAseq_with_ESM1b.pkl\"))"
   ]
  },
  {
   "cell_type": "code",
   "execution_count": null,
   "metadata": {},
   "outputs": [],
   "source": []
  },
  {
   "cell_type": "code",
   "execution_count": null,
   "metadata": {},
   "outputs": [],
   "source": []
  },
  {
   "cell_type": "code",
   "execution_count": 3,
   "metadata": {},
   "outputs": [
    {
     "ename": "UnpicklingError",
     "evalue": "invalid load key, '\\x00'.",
     "output_type": "error",
     "traceback": [
      "\u001b[1;31m---------------------------------------------------------------------------\u001b[0m",
      "\u001b[1;31mUnpicklingError\u001b[0m                           Traceback (most recent call last)",
      "\u001b[1;32m~\\AppData\\Local\\Temp\\ipykernel_2340\\732293132.py\u001b[0m in \u001b[0;36m<module>\u001b[1;34m\u001b[0m\n\u001b[0;32m      1\u001b[0m \u001b[0mfile\u001b[0m \u001b[1;33m=\u001b[0m \u001b[0mopen\u001b[0m\u001b[1;33m(\u001b[0m\u001b[0mjoin\u001b[0m\u001b[1;33m(\u001b[0m\u001b[1;34m\"..\"\u001b[0m\u001b[1;33m,\u001b[0m \u001b[1;34m\"..\"\u001b[0m\u001b[1;33m,\u001b[0m \u001b[1;34m\"Tin_data\"\u001b[0m\u001b[1;33m,\u001b[0m \u001b[1;34m\"df_model_redHuman_kcat.pkl\"\u001b[0m\u001b[1;33m)\u001b[0m\u001b[1;33m,\u001b[0m\u001b[1;34m'rb'\u001b[0m\u001b[1;33m)\u001b[0m\u001b[1;33m\u001b[0m\u001b[1;33m\u001b[0m\u001b[0m\n\u001b[1;32m----> 2\u001b[1;33m \u001b[0mdf\u001b[0m \u001b[1;33m=\u001b[0m \u001b[0mpickle\u001b[0m\u001b[1;33m.\u001b[0m\u001b[0mload\u001b[0m\u001b[1;33m(\u001b[0m\u001b[0mfile\u001b[0m\u001b[1;33m)\u001b[0m\u001b[1;33m\u001b[0m\u001b[1;33m\u001b[0m\u001b[0m\n\u001b[0m",
      "\u001b[1;31mUnpicklingError\u001b[0m: invalid load key, '\\x00'."
     ]
    }
   ],
   "source": [
    "file = open(join(\"..\", \"..\", \"Tin_data\", \"df_model_redHuman_kcat.pkl\"),'rb')\n",
    "df = pickle.load(file)"
   ]
  },
  {
   "cell_type": "markdown",
   "metadata": {},
   "source": [
    "Before using kcat prediction for the first time, we have to download the ESM-1b model:"
   ]
  },
  {
   "cell_type": "code",
   "execution_count": 3,
   "metadata": {},
   "outputs": [],
   "source": [
    "#import esm\n",
    "#model, alphabet = torch.hub.load(\"facebookresearch/esm:v0.4.0\", \"esm1b_t33_650M_UR50S\")"
   ]
  },
  {
   "cell_type": "markdown",
   "metadata": {},
   "source": [
    "Example for calculating kcat prediction. You can enter multiple enyzmes and substrates. Enzyme 1 will be paired with substrate 1, enzyme 2 will be paired with substrate 2 and so on..."
   ]
  },
  {
   "cell_type": "markdown",
   "metadata": {},
   "source": [
    "Enter enzymes as amino acid sequences and substrate either as SMILES strings, KEGG Compound IDs, or InChI strings."
   ]
  },
  {
   "cell_type": "code",
   "execution_count": 4,
   "metadata": {},
   "outputs": [],
   "source": [
    "substrates = [\"InChI=1S/C7H5NO4/c9-8(10)5-1-2-6-7(3-5)12-4-11-6/h1-3H,4H2;InChI=1S/H2O2/c1-2/h1-2H\",\n",
    "             ]\n",
    "products = [\"InChI=1S/C6H5NO4/c8-5-2-1-4(7(10)11)3-6(5)9/h1-3,8-9H;InChI=1S/CH2O2/c2-1-3/h1H,(H,2,3);InChI=1S/H2O/h1H2\"]\n",
    "enzymes = [\"MKYFPLFPTLVFAARVVAFPAYASLAGLSQQELDAIIPTLEAREPGLPPGPLENSSAKLVNDEAHPWKPLRPGDIRGPCPGLNTLASHGYLPRNGVATPVQIINAVQEGLNFDNQAAVFATYAAHLVDGNLITDLLSIGRKTRLTGPDPPPPASVGGLNEHGTFEGDASMTRGDAFFGNNHDFNETLFEQLVDYSNRFGGGKYNLTVAGELRFKRIQDSIATNPNFSFVDFRFFTAYGETTFPANLFVDGRRDDGQLDMDAARSFFQFSRMPDDFFRAPSPRSGTGVEVVIQAHPMQPGRNVGKINSYTVDPTSSDFSTPCLMYEKFVNITVKSLYPNPTVQLRKALNTNLDFFFQGVAAGCTQVFPYGRD\"]"
   ]
  },
  {
   "cell_type": "code",
   "execution_count": 6,
   "metadata": {
    "scrolled": false
   },
   "outputs": [
    {
     "name": "stdout",
     "output_type": "stream",
     "text": [
      "Step 1/3: Calculating numerical representations for all substrates and products.\n",
      "Step 2/3: Calculating numerical representations for all enzymes.\n",
      ".....2(a) Loading ESM-1b model.\n",
      ".....2(b) Loading model parameters for task-specific model.\n",
      ".....2(c) Calculating enzyme representations.\n",
      "Step 3/3: Making predictions for kcat.\n",
      "[14:54:49] WARNING: C:/Users/Administrator/workspace/xgboost-win64_release_1.6.0/src/learner.cc:1040: \n",
      "  If you are loading a serialized model (like pickle in Python, RDS in R) generated by\n",
      "  older XGBoost, please export the model by calling `Booster.save_model` from that version\n",
      "  first, then load it back in current version. See:\n",
      "\n",
      "    https://xgboost.readthedocs.io/en/latest/tutorials/saving_model.html\n",
      "\n",
      "  for more details about differences between saving model and serializing.\n",
      "\n",
      "[14:54:49] WARNING: C:/Users/Administrator/workspace/xgboost-win64_release_1.6.0/src/learner.cc:749: Found JSON model saved before XGBoost 1.6, please save the model using current version again. The support for old JSON model will be discontinued in XGBoost 2.3.\n",
      "[14:54:49] WARNING: C:/Users/Administrator/workspace/xgboost-win64_release_1.6.0/src/learner.cc:438: \n",
      "  If you are loading a serialized model (like pickle in Python, RDS in R) generated by\n",
      "  older XGBoost, please export the model by calling `Booster.save_model` from that version\n",
      "  first, then load it back in current version. See:\n",
      "\n",
      "    https://xgboost.readthedocs.io/en/latest/tutorials/saving_model.html\n",
      "\n",
      "  for more details about differences between saving model and serializing.\n",
      "\n"
     ]
    }
   ],
   "source": [
    "df = kcat_predicton(substrates = substrates,\n",
    "               products = products,\n",
    "               enzymes = enzymes)"
   ]
  },
  {
   "cell_type": "code",
   "execution_count": 9,
   "metadata": {},
   "outputs": [
    {
     "data": {
      "text/plain": [
       "-90.0"
      ]
     },
     "execution_count": 9,
     "metadata": {},
     "output_type": "execute_result"
    }
   ],
   "source": [
    "sum(df[\"difference_fp\"][0])"
   ]
  },
  {
   "cell_type": "code",
   "execution_count": null,
   "metadata": {},
   "outputs": [],
   "source": []
  }
 ],
 "metadata": {
  "kernelspec": {
   "display_name": "Python 3 (ipykernel)",
   "language": "python",
   "name": "python3"
  },
  "language_info": {
   "codemirror_mode": {
    "name": "ipython",
    "version": 3
   },
   "file_extension": ".py",
   "mimetype": "text/x-python",
   "name": "python",
   "nbconvert_exporter": "python",
   "pygments_lexer": "ipython3",
   "version": "3.7.13"
  }
 },
 "nbformat": 4,
 "nbformat_minor": 4
}
